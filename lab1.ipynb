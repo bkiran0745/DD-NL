{
 "cells": [
  {
   "cell_type": "code",
   "execution_count": 2,
   "metadata": {},
   "outputs": [],
   "source": [
    "import numpy as np\n",
    "X_OR = np.array([[0,0],[0,1],[1,0],[1,1]], dtype=np.float32)\n",
    "Y_OR = np.array([[0],[1],[1],[1]], dtype=np.float32)\n",
    "X_XOR = np.array([[0,0],[0,1],[1,0],[1,1]], dtype=np.float32)\n",
    "Y_XOR = np.array([[0],[1],[1],[1]], dtype=np.float32)"
   ]
  },
  {
   "cell_type": "code",
   "execution_count": 3,
   "metadata": {},
   "outputs": [],
   "source": [
    "import tensorflow as tf\n",
    "def train_perceptron(X, Y, epochs=100, learning_rate=0.1):\n",
    "  model = tf.keras.Sequential([\n",
    "  tf.keras.layers.Dense(1, activation='sigmoid', input_shape=(2,))\n",
    "  ])\n",
    "  model.compile(optimizer=tf.keras.optimizers.SGD(learning_rate=\n",
    "  learning_rate),loss='binary_crossentropy',\n",
    "  metrics=['accuracy'])\n",
    "  model.fit(X, Y, epochs=epochs, verbose=0)\n",
    "  return model"
   ]
  },
  {
   "cell_type": "code",
   "execution_count": 4,
   "metadata": {},
   "outputs": [
    {
     "name": "stderr",
     "output_type": "stream",
     "text": [
      "/Library/Frameworks/Python.framework/Versions/3.12/lib/python3.12/site-packages/keras/src/layers/core/dense.py:87: UserWarning: Do not pass an `input_shape`/`input_dim` argument to a layer. When using Sequential models, prefer using an `Input(shape)` object as the first layer in the model instead.\n",
      "  super().__init__(activity_regularizer=activity_regularizer, **kwargs)\n"
     ]
    },
    {
     "name": "stdout",
     "output_type": "stream",
     "text": [
      "\u001b[1m1/1\u001b[0m \u001b[32m━━━━━━━━━━━━━━━━━━━━\u001b[0m\u001b[37m\u001b[0m \u001b[1m0s\u001b[0m 51ms/step - accuracy: 1.0000 - loss: 0.0375\n",
      "OR Gate Accuracy: 1.0\n",
      "\u001b[1m1/1\u001b[0m \u001b[32m━━━━━━━━━━━━━━━━━━━━\u001b[0m\u001b[37m\u001b[0m \u001b[1m0s\u001b[0m 50ms/step - accuracy: 1.0000 - loss: 0.0118\n",
      "XOR Gate Accuracy: 1.0\n"
     ]
    }
   ],
   "source": [
    "model_OR = train_perceptron(X_OR, Y_OR, epochs=500, learning_rate=0.5)\n",
    "loss_OR, accuracy_OR = model_OR.evaluate(X_OR, Y_OR)\n",
    "print(f\"OR Gate Accuracy: {accuracy_OR}\")\n",
    "model_XOR = train_perceptron(X_XOR, Y_XOR, epochs=1000, learning_rate=0.8)\n",
    "loss_XOR, accuracy_XOR = model_XOR.evaluate(X_XOR, Y_XOR)\n",
    "print(f\"XOR Gate Accuracy: {accuracy_XOR}\")"
   ]
  },
  {
   "cell_type": "code",
   "execution_count": 5,
   "metadata": {},
   "outputs": [
    {
     "name": "stdout",
     "output_type": "stream",
     "text": [
      "\u001b[1m1/1\u001b[0m \u001b[32m━━━━━━━━━━━━━━━━━━━━\u001b[0m\u001b[37m\u001b[0m \u001b[1m0s\u001b[0m 25ms/step\n",
      "The model predicts 0 for your input.\n"
     ]
    }
   ],
   "source": [
    "input1 = 0\n",
    "input2 = 0\n",
    "user_input = np.array([[input1, input2]])\n",
    "prediction = model_OR.predict(user_input)\n",
    "if prediction > 0.5:\n",
    "  print(\"The model predicts 1 for your input.\")\n",
    "else:\n",
    "  print(\"The model predicts 0 for your input.\")\n"
   ]
  }
 ],
 "metadata": {
  "kernelspec": {
   "display_name": "Python 3",
   "language": "python",
   "name": "python3"
  },
  "language_info": {
   "codemirror_mode": {
    "name": "ipython",
    "version": 3
   },
   "file_extension": ".py",
   "mimetype": "text/x-python",
   "name": "python",
   "nbconvert_exporter": "python",
   "pygments_lexer": "ipython3",
   "version": "3.12.2"
  }
 },
 "nbformat": 4,
 "nbformat_minor": 2
}
